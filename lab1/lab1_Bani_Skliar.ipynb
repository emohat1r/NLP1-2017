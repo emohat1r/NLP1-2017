{
 "cells": [
  {
   "cell_type": "markdown",
   "metadata": {},
   "source": [
    "Authors:\n",
    "- Gabriele Bani, 11640758\n",
    "- Andrii Skliar, 11636785"
   ]
  },
  {
   "cell_type": "code",
   "execution_count": 1,
   "metadata": {
    "collapsed": true
   },
   "outputs": [],
   "source": [
    "# Note: resetting environment to free up space, that has been previously allocated \n",
    "# (more thourough explanation later in the lab)\n",
    "\n",
    "%reset -f\n",
    "%matplotlib inline\n",
    "import matplotlib\n",
    "import numpy as np\n",
    "import matplotlib.pyplot as plt\n",
    "import os\n",
    "from collections import Counter\n",
    "\n",
    "# our data is stored in a following fashion: 1. ted/\n",
    "#                                            2. wsj/\n",
    "data_dir = './'"
   ]
  },
  {
   "cell_type": "markdown",
   "metadata": {},
   "source": [
    "# Lab 1: Text Corpora and Language Modelling\n",
    "\n",
    "This lab is meant to help you get familiar with some language data, and use this data to estimate N-gram language models\n",
    "\n",
    "First you will use the **Penn Treebank**, which is a collection of newspaper articles from the newspaper \n",
    "The Wall Street Journal. The idea is to examine the data and notice interesting properties. This will not take more than a few lines of code.\n",
    "\n",
    "Then you will use a corpus consisting of **TedX** talks. This you will use to estimate an **N-gram language model** for different orders of N, and use this this for some tasks.\n",
    "\n",
    "The datasets are on blackboard under course materials. Download the zip and make sure to put the files in the same directory as the notebook.\n",
    "\n",
    "### Rules\n",
    "* The lab exercises should be made in **groups of two people**.\n",
    "\n",
    "* The deadline is **Tuesday 7 nov 16:59**.\n",
    "\n",
    "* The assignment should submitted to **Blackboard** as `.ipynb`. Only **one submission per group**.\n",
    "\n",
    "* The **filename** should be `lab1_lastname1_lastname2.ipynb`, so for example `lab1_Jurafsky_Martin.ipynb`.\n",
    "\n",
    "* The notebook is graded on a scale of **0-10**. The number of points for each question is indicated in parantheses. \n",
    "\n",
    "* The questions marked **optional** are not graded; they are an additional challenge for those interested in going the extra mile. \n",
    "\n",
    "Notes on implementation:\n",
    "\n",
    "* You should **write your code and answers in this iPython Notebook** (see http://ipython.org/notebook.html for reference material). If you have problems, please contact your teaching assistant.\n",
    "\n",
    "* Use only **one cell for code** and **one cell for markdown** answers!    \n",
    "\n",
    "    * Put all code in the cell with the `# YOUR CODE HERE` comment.\n",
    "    \n",
    "    * For theoretical question, put your solution in the YOUR ANSWER HERE cell.\n",
    "    \n",
    "* Test your code and **make sure we can run your notebook**"
   ]
  },
  {
   "cell_type": "markdown",
   "metadata": {},
   "source": [
    "# 1. Penn treebank\n",
    "\n",
    "## Exercise 1.1 (40 points, 5 points per subquestion )\n",
    "\n",
    "You are provided with a corpus containing words with their Part-of-Speech tags (POS-tags for short). The format is\n",
    "**word|POS** (one sentence per line) and the file name is **sec02-22.gold.tagged**. This data is extracted from Sections 02-22 from the Penn Treebank: these sections are most commonly used for training statistical models like POS-taggers and parsers.\n",
    "\n",
    "**[Hint]** **Figure 10.1** in chapter 10 of Jurafsky and Martin (see [here](https://web.stanford.edu/~jurafsky/slp3/10.pdf_train)) holds a summary of the 45 POS-tags used in the Penn Treebank tagset together with their meaning and some examples. (If you are keen on learning more about the word-classes represented POS-tags and their definitions you can do a litle reading ahead for next week and already have a look at section 10.1 of the same chapter).\n",
    "\n",
    "**[Hint]** the Python library [collections](https://docs.python.org/2/library/collections.html) has an object called `Counter` which will come in handy for this exercise."
   ]
  },
  {
   "cell_type": "markdown",
   "metadata": {},
   "source": [
    " "
   ]
  },
  {
   "cell_type": "markdown",
   "metadata": {},
   "source": [
    "**(a)** How large is the corpus? (i.e. how **many tokens**). And what is the size of the **vocabulary** used in this corpus? \n",
    "\n",
    "Estimate the vocabulary size both by **lowercasing** all the words as well as by leaving the words in their **original orthography**. What is an advantage of lowercasing all the words in your corpus? What is a notable downside? **Give examples.**"
   ]
  },
  {
   "cell_type": "code",
   "execution_count": 2,
   "metadata": {
    "collapsed": true
   },
   "outputs": [],
   "source": [
    "train_file = os.path.join(data_dir, 'wsj/sec02-21.gold.tagged')\n",
    "word_counter_train = Counter()\n",
    "word_lower_counter = Counter()\n",
    "pos_counter = Counter()\n",
    "with open(train_file, 'r') as content_file:\n",
    "    content = content_file.read()\n",
    "# list of words and their POS tags\n",
    "tokens = content.split()\n",
    "\n",
    "# go through each token and build up dictionaries of words and POS tags\n",
    "for token in tokens:\n",
    "    tok_split=token.split('|')\n",
    "    word = tok_split[0]\n",
    "    pos = tok_split[1]\n",
    "    word_lower = word.lower()\n",
    "    word_counter_train[word] += 1\n",
    "    pos_counter[pos] += 1\n",
    "    word_lower_counter[word_lower] += 1\n"
   ]
  },
  {
   "cell_type": "code",
   "execution_count": 3,
   "metadata": {
    "collapsed": false
   },
   "outputs": [
    {
     "name": "stdout",
     "output_type": "stream",
     "text": [
      "Corpus size: 929552\n",
      "Vocabulary size: 44210\n",
      "Lowercased vocabulary size: 39384\n"
     ]
    }
   ],
   "source": [
    "corpus_size = len(tokens)\n",
    "vocab_size = len(word_counter_train)\n",
    "vocab_size_lower = len(word_lower_counter)\n",
    "\n",
    "print('Corpus size: {0}\\nVocabulary size: {1}\\nLowercased vocabulary size: {2}'\\\n",
    "      .format(corpus_size, vocab_size, vocab_size_lower))"
   ]
  },
  {
   "cell_type": "markdown",
   "metadata": {},
   "source": [
    "ANSWER:\n",
    "\n",
    "Original orthography can provide us with valuable insights about the semantics of the word and can be very important for further predictions. This is due to the fact, that, for example, words, that start with capital letter, will most porbably have different meaning that the words, which are written in the same way, but start with lowercase letter.\n",
    "Consider toy example: \"muse\" - source of an artists inspiration and \"Muse\" - name of a girl.  \n",
    "Also, if we lowercase all the words, we won't be able to distinguish between words, that sentences may start with and just general words, i.e. \"It was snowing outside\" - \"It\" is the start of the sentence and \"He saw, that it was snowing outside\" - \"it\" is just a general word."
   ]
  },
  {
   "cell_type": "markdown",
   "metadata": {},
   "source": [
    "------\n",
    "For the rest of this exercise you should use the **original orthography** of the data when answering the questions.\n",
    "\n",
    "------\n"
   ]
  },
  {
   "cell_type": "markdown",
   "metadata": {},
   "source": [
    "**(b)** Plot a graph of word frequency versus rank of a word, in this corpus. Does this corpus obey **Zipf’s law**?"
   ]
  },
  {
   "cell_type": "code",
   "execution_count": 4,
   "metadata": {
    "collapsed": false
   },
   "outputs": [
    {
     "name": "stdout",
     "output_type": "stream",
     "text": [
      "Yes, it does obey Zipf's law!\n"
     ]
    },
    {
     "data": {
      "image/png": "[encoded data removed]",
      "text/plain": [
       "<matplotlib.figure.Figure at 0x7fdb56fc1ef0>"
      ]
     },
     "metadata": {},
     "output_type": "display_data"
    }
   ],
   "source": [
    "# get log frequency of each word in the vocabulary\n",
    "freq = [(tup[1]) for tup in word_counter_train.most_common()]\n",
    "# plotloglog prints data with logarithm function applied to both axis\n",
    "plt.loglog(freq)\n",
    "print(\"Yes, it does obey Zipf's law!\")"
   ]
  },
  {
   "cell_type": "markdown",
   "metadata": {},
   "source": [
    "**(c)** What are the **20 most common words** in the corpus and how often do they occur? What is the 50th most common word, the 100th and the 1000th and how often do they occur?"
   ]
  },
  {
   "cell_type": "code",
   "execution_count": 5,
   "metadata": {
    "collapsed": false
   },
   "outputs": [
    {
     "name": "stdout",
     "output_type": "stream",
     "text": [
      "Most common 20 words:\n",
      "[(',', 48310), ('the', 40839), ('.', 38798), ('of', 22782), ('to', 22056), ('a', 19171), ('and', 15906), ('in', 15085), (\"'s\", 9249), ('that', 7951), ('for', 7912), ('$', 7125), ('is', 6893), ('The', 6791), ('said', 5597), ('on', 5112), ('%', 4871), ('it', 4639), ('by', 4450), ('from', 4437)]\n",
      "\n",
      "Most common 50th word: ('had', 1755)\n",
      "Most common 100th word: ('A', 860)\n",
      "Most common 1000th word: ('man', 109)\n"
     ]
    }
   ],
   "source": [
    "most_common_words = [tup for tup in word_counter_train.most_common(1000)]\n",
    "most_common_20 = most_common_words[:20]\n",
    "print(\"Most common 20 words:\\n{0}\\n\".format(most_common_20))\n",
    "\n",
    "most_common_50 = most_common_words[49]\n",
    "most_common_100 = most_common_words[99]\n",
    "most_common_1000 = most_common_words[999]\n",
    "print(\"Most common 50th word: {0}\".format(most_common_50))\n",
    "print(\"Most common 100th word: {0}\".format(most_common_100))\n",
    "print(\"Most common 1000th word: {0}\".format(most_common_1000))"
   ]
  },
  {
   "cell_type": "markdown",
   "metadata": {},
   "source": [
    "**(d)** How many different Part-of-speech tags are present in the corpus?"
   ]
  },
  {
   "cell_type": "code",
   "execution_count": 6,
   "metadata": {
    "collapsed": false,
    "scrolled": true
   },
   "outputs": [
    {
     "name": "stdout",
     "output_type": "stream",
     "text": [
      "Number of POS tags in the corpus: 48\n"
     ]
    }
   ],
   "source": [
    "vocab_size_pos = len(pos_counter)\n",
    "print(\"Number of POS tags in the corpus: {0}\".format(vocab_size_pos))"
   ]
  },
  {
   "cell_type": "markdown",
   "metadata": {},
   "source": [
    "**(e)** Print a list of the **10 most commonly occurring POS tags** in the data. For each of these POS tags, what are the **3 most common words** that belong to that class?"
   ]
  },
  {
   "cell_type": "code",
   "execution_count": 7,
   "metadata": {
    "collapsed": false
   },
   "outputs": [
    {
     "name": "stdout",
     "output_type": "stream",
     "text": [
      "Most common 10 POS tags:\n",
      "['NN', 'IN', 'NNP', 'DT', 'JJ', 'NNS', ',', '.', 'CD', 'RB']\n",
      "\n",
      "3 most common words among for NN tag:\n",
      "[('%', 4866), ('company', 2457), ('year', 2220)]\n",
      "\n",
      "3 most common words among for IN tag:\n",
      "[('of', 22778), ('in', 14852), ('for', 7907)]\n",
      "\n",
      "3 most common words among for NNP tag:\n",
      "[('Mr.', 4147), ('U.S.', 1577), ('Corp.', 1186)]\n",
      "\n",
      "3 most common words among for DT tag:\n",
      "[('the', 40831), ('a', 19151), ('The', 6753)]\n",
      "\n",
      "3 most common words among for JJ tag:\n",
      "[('new', 1396), ('other', 1298), ('last', 990)]\n",
      "\n",
      "3 most common words among for NNS tag:\n",
      "[('years', 1164), ('shares', 1128), ('sales', 939)]\n",
      "\n",
      "3 most common words among for , tag:\n",
      "[(',', 48310), ('an', 1), ('2', 1)]\n",
      "\n",
      "3 most common words among for . tag:\n",
      "[('.', 38798), ('?', 392), ('!', 62)]\n",
      "\n",
      "3 most common words among for CD tag:\n",
      "[('million', 4355), ('billion', 1780), ('one', 1203)]\n",
      "\n",
      "3 most common words among for RB tag:\n",
      "[(\"n't\", 3211), ('also', 1420), ('not', 1287)]\n",
      "\n"
     ]
    }
   ],
   "source": [
    "most_common_pos = [tup[0] for tup in pos_counter.most_common()]\n",
    "most_common_10 = most_common_pos[:10]\n",
    "print(\"Most common 10 POS tags:\\n{0}\\n\".format(most_common_10))\n",
    "\n",
    "# build dictionary of POS tags and number of words having each POS tag\n",
    "pos_word_dict = {}\n",
    "\n",
    "# build dictionary of words along with POS tags belonging to each word\n",
    "word_pos_dict = {}\n",
    "\n",
    "for token in tokens:\n",
    "    tok_split=token.split('|')\n",
    "    word = tok_split[0]\n",
    "    pos = tok_split[1]\n",
    "    if pos not in pos_word_dict:\n",
    "        pos_word_dict[pos] = Counter()\n",
    "        pos_word_dict[pos][word] += 1\n",
    "    else:\n",
    "        pos_word_dict[pos][word] += 1  \n",
    "        \n",
    "    if word not in word_pos_dict:\n",
    "        word_pos_dict[word] = Counter([pos])\n",
    "    else:\n",
    "        word_pos_dict[word][pos] += 1\n",
    "        \n",
    "for pos in most_common_10:\n",
    "    # find most common words for specific tag along with their \n",
    "    # occurrences in the text with that tag specifically\n",
    "    top_three = [tup for tup in pos_word_dict[pos].most_common(3)]\n",
    "    print(\"3 most common words among for {0} tag:\\n{1}\\n\".format(pos, top_three))"
   ]
  },
  {
   "cell_type": "markdown",
   "metadata": {},
   "source": [
    "**(f)** A single word may have several POS-tags. For example, *record* can be a both a **noun** *(buy a record)* or a **verb** *(record a lecture)*. This make POS-tags extremely useful for **disambiguation**.\n",
    "\n",
    "What percentage of the words in the vocabulary is **ambiguous**? (i.e. have more than one POS tag?) What are the 10 most frequent combinations of POS tags in the case of ambitguity? Which words are **most ambiguous**? Give some of them."
   ]
  },
  {
   "cell_type": "code",
   "execution_count": 8,
   "metadata": {
    "collapsed": false,
    "scrolled": true
   },
   "outputs": [
    {
     "name": "stdout",
     "output_type": "stream",
     "text": [
      "Top 10 most ambiguous words (with most number of POS tags) along with number of their POS tags are:\n",
      "[('set', 7), ('many', 7), ('open', 7), ('down', 7), ('in', 6), ('that', 6), ('own', 6), ('cut', 6), ('point', 6), ('left', 6)]\n",
      "\n",
      "Top 10 most frequent combinations of POS tags in the case of ambiguity are:\n",
      "[('VBD', 'VBN'), ('JJ', 'NN'), ('NN', 'NNP'), ('VB', 'VBP'), ('NNS', 'VBZ'), ('NN', 'VB'), ('NN', 'VBG'), ('JJ', 'VBD', 'VBN'), ('NN', 'VB', 'VBP'), ('JJ', 'NNP')]\n",
      "\n",
      "Percentage of ambiguous words: 13.47%\n",
      "\n"
     ]
    }
   ],
   "source": [
    "# calcualte number of POS tags for each ambiguous word\n",
    "ambig_items = [(key, len(value)) for key, value in word_pos_dict.items() if len(value) > 1]\n",
    "ambig_items = sorted(ambig_items, key = lambda tup: tup[1], reverse=True)\n",
    "most_ambig_words = [tup[0] for tup in ambig_items][:10]\n",
    "print(\"Top 10 most ambiguous words (with most number of POS tags) along with number of their POS tags are:\\n{0}\\n\"\\\n",
    "      .format(ambig_items[:10]))\n",
    "\n",
    "# find most popular POS tags combinations\n",
    "ambig_pos_combinations = [tuple(sorted(list(word_pos_dict[key].keys()))) for key, val in ambig_items]\n",
    "ambig_counter = Counter()\n",
    "for combination in ambig_pos_combinations:\n",
    "    ambig_counter[combination] += 1\n",
    "    \n",
    "most_ambig_combinations = [tup[0] for tup in ambig_counter.most_common()]\n",
    "print(\"Top 10 most frequent combinations of POS tags in the case of ambiguity are:\\n{0}\\n\"\\\n",
    "      .format(most_ambig_combinations[:10]))\n",
    "\n",
    "ambig_perc = len(ambig_items)/vocab_size * 100\n",
    "print('Percentage of ambiguous words: {0}%\\n'.format(np.round(ambig_perc, 3)))"
   ]
  },
  {
   "cell_type": "markdown",
   "metadata": {},
   "source": [
    "**(g)**  Print some of these words with their multiple POS-tags. Do you **understand the ambiguity**? Use figure 10.1 mentioned above to interpret the POS-tags."
   ]
  },
  {
   "cell_type": "code",
   "execution_count": 9,
   "metadata": {
    "collapsed": false
   },
   "outputs": [
    {
     "name": "stdout",
     "output_type": "stream",
     "text": [
      "For word 'set' POS tags are: ['VBN', 'NN', 'VBD', 'VB', 'VBP', 'JJ', 'VBZ']\n",
      "\n",
      "For word 'many' POS tags are: ['JJ', 'NN', 'RB', 'DT', 'PDT', 'VB', 'NP']\n",
      "\n",
      "For word 'open' POS tags are: ['VB', 'JJ', 'RP', 'RB', 'VBP', 'NN', 'VBZ']\n",
      "\n",
      "For word 'down' POS tags are: ['RB', 'RP', 'IN', 'JJ', 'RBR', 'VBP', 'NN']\n",
      "\n",
      "For word 'in' POS tags are: ['IN', 'RP', 'RB', 'CC', 'FW', 'RBR']\n",
      "\n",
      "For word 'that' POS tags are: ['IN', 'WDT', 'DT', 'RB', 'VBP', 'NN']\n",
      "\n",
      "For word 'own' POS tags are: ['JJ', 'VB', 'VBP', 'NN', 'VBZ', 'VBN']\n",
      "\n",
      "For word 'cut' POS tags are: ['VB', 'VBD', 'NN', 'VBN', 'VBP', 'JJ']\n",
      "\n",
      "For word 'point' POS tags are: ['NN', 'VB', 'VBP', 'VBZ', 'JJ', 'VBN']\n",
      "\n",
      "For word 'left' POS tags are: ['VBD', 'VBN', 'JJ', 'RB', 'NN', 'VB']\n",
      "\n",
      "Yes, we understand the ambiguity, for example word 'protests' can be both:\n",
      "NNS (Noun, plural) as in 'There have been a lot of protests against new laws in Ukraine.'\n",
      "VBZ (Verb, 3rd person singular present) as in 'She protests against this law '\n"
     ]
    }
   ],
   "source": [
    "for word in most_ambig_words:\n",
    "    pos = list(word_pos_dict[word].keys())\n",
    "    print(\"For word \\'{0}\\' POS tags are: {1}\\n\".format(word, pos))\n",
    "print(\"Yes, we understand the ambiguity, for example word \\'protests\\' can be both:\\n\\\n",
    "NNS (Noun, plural) as in \\'There have been a lot of protests against new laws in Ukraine.\\'\\n\\\n",
    "VBZ (Verb, 3rd person singular present) as in \\'She protests against this law \\'\")"
   ]
  },
  {
   "cell_type": "markdown",
   "metadata": {},
   "source": [
    "**(h)** Ambiguous words do not account for a great percentage of the vocabulary. Yet they are among the most commonly occuring words of the English language. What **percentage of the dataset is ambiguous**?"
   ]
  },
  {
   "cell_type": "code",
   "execution_count": 10,
   "metadata": {
    "collapsed": false
   },
   "outputs": [
    {
     "name": "stdout",
     "output_type": "stream",
     "text": [
      "Percentage of the ambiguous dataset is: 55.079%\n",
      "\n"
     ]
    }
   ],
   "source": [
    "counter = 0\n",
    "for token in tokens:\n",
    "    tok_split=token.split('|')\n",
    "    word = tok_split[0]\n",
    "    pos = tok_split[1]\n",
    "    if len(word_pos_dict[word]) > 1:\n",
    "        counter += 1\n",
    "print(\"Percentage of the ambiguous dataset is: {0}%\\n\".format(np.round(counter/corpus_size * 100, 3)))"
   ]
  },
  {
   "cell_type": "markdown",
   "metadata": {},
   "source": [
    "## Exercise 1.2 (10 points, 5 per subquestion)"
   ]
  },
  {
   "cell_type": "markdown",
   "metadata": {},
   "source": [
    "You are also provided with another file called **sec00.gold.tagged**. \n",
    "Section 00 of the Penn Treebank is typically used as development data."
   ]
  },
  {
   "cell_type": "markdown",
   "metadata": {},
   "source": [
    "**(a)** How many **unseen words** are present in the development data (i.e., words that have not occurred in the training data)?"
   ]
  },
  {
   "cell_type": "code",
   "execution_count": 11,
   "metadata": {
    "collapsed": true
   },
   "outputs": [],
   "source": [
    "test_file = os.path.join(data_dir, 'wsj/sec00.gold.tagged')\n",
    "\n",
    "word_counter_test = Counter()\n",
    "\n",
    "with open(test_file, 'r') as content_file:\n",
    "    content = content_file.read()\n",
    "tokens = content.split()\n",
    "\n",
    "for token in tokens:\n",
    "    tok_split=token.split('|')\n",
    "    word = tok_split[0]\n",
    "    word_counter_test[word] += 1\n"
   ]
  },
  {
   "cell_type": "code",
   "execution_count": 12,
   "metadata": {
    "collapsed": false,
    "scrolled": false
   },
   "outputs": [
    {
     "name": "stdout",
     "output_type": "stream",
     "text": [
      "There are 1288 unseen words in the development data!\n"
     ]
    }
   ],
   "source": [
    "# calculate number of unseen words as difference between two vocabularies (for test and train set)\n",
    "diff_dict = {k : word_counter_test[k] for k in set(word_counter_test) - set(word_counter_train)}\n",
    "print(\"There are {0} unseen words in the development data!\"\\\n",
    "      .format(len(diff_dict)))"
   ]
  },
  {
   "cell_type": "markdown",
   "metadata": {},
   "source": [
    "**(b)** What are the three **POS tag categories** that the most **unseen words** belong to?"
   ]
  },
  {
   "cell_type": "code",
   "execution_count": 13,
   "metadata": {
    "collapsed": false,
    "scrolled": true
   },
   "outputs": [
    {
     "name": "stdout",
     "output_type": "stream",
     "text": [
      "The three POS tag categories that the most unseen words belong to are:\n",
      "[('NNP', 815), ('JJ', 258), ('NN', 210)]\n"
     ]
    }
   ],
   "source": [
    "unseen_pos_counter = Counter()\n",
    "for token in tokens:\n",
    "    tok_split=token.split('|')\n",
    "    word = tok_split[0]\n",
    "    pos = tok_split[1]\n",
    "    if word in diff_dict:\n",
    "        unseen_pos_counter[pos] += 1\n",
    "top_three_pos = unseen_pos_counter.most_common(3)\n",
    "print(\"The three POS tag categories\\\n",
    " that the most unseen words belong to are:\\n{0}\"\\\n",
    "     .format(top_three_pos))\n"
   ]
  },
  {
   "cell_type": "markdown",
   "metadata": {},
   "source": [
    "# 2. Language Models\n",
    "\n",
    "This part of the lab will be covered in the Wednesday lecture. If you have prior exposure to NLP, go ahead and finish this part! If you don't, start anyway, and this part will be clear after the lecture. \n",
    "\n",
    "Reference **chapter 4** of J&M *Language Modeling with N-Grams*. \n",
    "\n",
    "----------\n",
    "\n",
    "Models that assign **probabilities** to **sequences of words** are called language **language\n",
    "modelels** or **LMs**. The simplest model that assigns probabilities to sentences and sequences of words is the **N-gram** model.\n",
    "\n",
    "Recall that an *N*-gram language model uses **conditional probabilities** of the form\n",
    "    \n",
    "$$P(w_k \\mid w_{k-N+1} \\dots w_{k-1})$$\n",
    "\n",
    "to **approximate** the full **joint probability**\n",
    "\n",
    "$$P(w_1 \\dots w_n)$$\n",
    "\n",
    "of a sequence of words $w_1 \\dots w_n$.\n",
    "\n",
    "The easiest way of obtaining estimates for the probabilities $P(w_k \\mid w_{k-N+1} \\dots w_{k-1})$ is to use the **maximum likelihood estimate** or **MLE**, a widely used statistical estimation method ([read more]((https://en.wikipedia.org/wiki/Maximum_likelihood_estimation)). You count and normalize:\n",
    "\n",
    "$$P_{MLE}(w_k \\mid w_{k-N+1} \\dots w_{k-1}) = \\frac{C(w_{k-N+1} \\dots w_{k-1} w_k)}{C(w_{k-N+1} \\dots w_{k-1})}.$$\n",
    "\n",
    "\n",
    "## Exercise 2.1 (25 points)\n",
    "\n",
    "**(a) ** Complete the function `train_ngram` so that you can train a count-based $N$-gram language model on the data found in `data/ted-train.txt` and train this for $N=2,3,4$. **15 points**\n",
    "\n",
    "**(b) ** Extend the function above so that it accepts a parameter `k` for optional add-$k$ smoothing. **10 points**\n",
    "\n",
    "**[Datastructure hint]** If you store the smoothed language in a naive manner (that is, to store *all* the numbers separately) your datastructure will get huge! If $V$ is the vocabulary then the smoothed bigram model assigns probabilities to $|V|^2$ entries. If $|V|$ is around 80k, the naive way requires you to store more than 64 billion floats. Yet almost all of these are actually just $P(w_n|w_{n-1}) = \\frac{k}{N + k|V|}$, with $k$ the value with which you smooth and $N=C(w_{n-1})$. Think about how you use this fact to make your model work in practice."
   ]
  },
  {
   "cell_type": "markdown",
   "metadata": {},
   "source": [
    "# IMPORTANT EXPLANATION\n",
    "In the following sections, we calculate the desired probabilities using many different models.\n",
    "Since storing all the models at the same time requires a large amount of memory, we clear \n",
    "the memory previously allocated in the notebook using the command reset.\n",
    "\n",
    "**NOTE**: we use two different approaches for solving the exercises. \n",
    "1. This approach allows to train directly from the text with one prepended start of sentence token ($<s>$) and thus misses first N-1 words in each sentence.  It leads us to the different way of computing probabilities of the sentences and sentence generation.\n",
    "    - To calculate probability for sentence $(w_1, w_2, .. w_n)$ using trigram, we would do following steps:\n",
    "       * Calculate $$P(w_1), P(w_2|w_1), P(w_3|w_2,w_1), \\ldots P(w_n|w_{n-1}, w_{n-2})$$ using unigram, bigram and trigram onwards respectively.\n",
    "       * Then $$P(w_1, w_2, .. w_n) = P(w_1) * P(w_2|w_1) * \\prod_{i=3}^n P(w_i|w_{i-1}, w_{i-2})$$ \n",
    "       \n",
    "       Thus, for probabilities, we would first calculate all probabilities of N-1 words for all 1 to N-1-grams\n",
    "       and only then calculate probabilities for actual N-gram model.\n",
    "    \n",
    "    - To generate text using trigram we would do following:\n",
    "       * We start with $<s>$ tag and first generate bigram.\n",
    "       * Now we have $(w_1, w_2)$ sentence and we can start generating trigrams.\n",
    "       * We generate sentence until we encounter $</s>$ or until maximum number of words has been reached.\n",
    "       * *Note*: we can encounter $</s>$ before reaching N number of words, so at bigram step, for example.\n",
    "       \n",
    "       Thus, for text generation, we would first generate all models of N-1 words for all 1 to N-1-grams \n",
    "       and only then generate text using actual N-gram model. \n",
    "\n",
    "- This method modifies the training sentences adding many start of sentence tokens so that the ngrams can be trained directly and we wouldn't need any models other than N-gram model. It leads us to the different way of computing probabilities of the sentences and sentence generation.\n",
    "    - To calculate probability for sentence $(w_{-1}, w_0, w_1, w_2, .. w_n)$ using trigram, we would do following steps:\n",
    "       * Calculate $$P(w_1|w_0,w_{-1}), \\ldots P(w_n|w_{n-1}, w_{n-2})$$ using trigrams (*Note*: $w_{-1}$ and $w_0$ are $<s>$ tags).\n",
    "       * Then $$P(w_1, w_2, .. w_n) = \\prod_{i=1}^n P(w_i|w_{i-1},w_{i-2})$$ \n",
    "       \n",
    "       Thus, for probabilities, we would first calculate all probabilities of N-1 words for all 1 to N-1-grams\n",
    "       and only then calculate probabilities for actual N-gram model.\n",
    "    \n",
    "    - To generate text using trigram we would do following:\n",
    "       * We start with 2 $<s>$ tags and can directly generate sentence using trigrams.\n",
    "       * We generate sentence until we encounter $</s>$ or until maximum number of words has been reached.\n",
    "       \n",
    "       Thus, for text generation, we would first generate all models of N-1 words for all 1 to N-1-grams \n",
    "       and only then generate text using actual N-gram model. \n",
    "       \n",
    "First we solve all the exercise using the first method, then at the end of the notebook we reset the variables again\n",
    "and solve the same exercises using the second method."
   ]
  },
  {
   "cell_type": "code",
   "execution_count": 14,
   "metadata": {
    "collapsed": true
   },
   "outputs": [],
   "source": [
    "%reset -f\n",
    "%matplotlib inline\n",
    "import matplotlib\n",
    "import numpy as np\n",
    "import matplotlib.pyplot as plt\n",
    "import os\n",
    "from collections import Counter, defaultdict\n",
    "\n",
    "data_dir = './'"
   ]
  },
  {
   "cell_type": "markdown",
   "metadata": {},
   "source": [
    "**[Python hint]** The `collections` library has another useful datastructure: the `defaultdict`. Some example uses:"
   ]
  },
  {
   "cell_type": "code",
   "execution_count": 15,
   "metadata": {
    "collapsed": false
   },
   "outputs": [
    {
     "data": {
      "text/plain": [
       "0.0"
      ]
     },
     "execution_count": 15,
     "metadata": {},
     "output_type": "execute_result"
    }
   ],
   "source": [
    "from collections import defaultdict\n",
    "\n",
    "d = defaultdict(float)\n",
    "d[\"new key\"]"
   ]
  },
  {
   "cell_type": "markdown",
   "metadata": {},
   "source": [
    "Compare that to an ordinary dictionary:"
   ]
  },
  {
   "cell_type": "code",
   "execution_count": 16,
   "metadata": {
    "collapsed": true
   },
   "outputs": [],
   "source": [
    "d = dict()\n",
    "# d[\"new key\"]"
   ]
  },
  {
   "cell_type": "markdown",
   "metadata": {},
   "source": [
    "Other datatypes as `default_factory`:"
   ]
  },
  {
   "cell_type": "code",
   "execution_count": 17,
   "metadata": {
    "collapsed": false
   },
   "outputs": [
    {
     "data": {
      "text/plain": [
       "0"
      ]
     },
     "execution_count": 17,
     "metadata": {},
     "output_type": "execute_result"
    }
   ],
   "source": [
    "d = defaultdict(int)\n",
    "d[\"new key\"]"
   ]
  },
  {
   "cell_type": "code",
   "execution_count": 18,
   "metadata": {
    "collapsed": false
   },
   "outputs": [
    {
     "data": {
      "text/plain": [
       "[]"
      ]
     },
     "execution_count": 18,
     "metadata": {},
     "output_type": "execute_result"
    }
   ],
   "source": [
    "d = defaultdict(list)\n",
    "d[\"new key\"]"
   ]
  },
  {
   "cell_type": "markdown",
   "metadata": {},
   "source": [
    "Converting an already existing `dict`:"
   ]
  },
  {
   "cell_type": "code",
   "execution_count": 19,
   "metadata": {
    "collapsed": false
   },
   "outputs": [
    {
     "name": "stdout",
     "output_type": "stream",
     "text": [
      "value\n",
      "0.0\n"
     ]
    }
   ],
   "source": [
    "d1 = {k: \"value\" for k in range(1, 11)}\n",
    "d = defaultdict(float, d1) # convert it to a defaultdict\n",
    "print(d[5])\n",
    "print(d[100])"
   ]
  },
  {
   "cell_type": "markdown",
   "metadata": {},
   "source": [
    "This doesn't work:"
   ]
  },
  {
   "cell_type": "code",
   "execution_count": 20,
   "metadata": {
    "collapsed": true
   },
   "outputs": [],
   "source": [
    "# d = defaultdict(10)"
   ]
  },
  {
   "cell_type": "markdown",
   "metadata": {},
   "source": [
    "Use a `lambda` to make the number `10` `callable`\":"
   ]
  },
  {
   "cell_type": "code",
   "execution_count": 21,
   "metadata": {
    "collapsed": false
   },
   "outputs": [
    {
     "data": {
      "text/plain": [
       "10"
      ]
     },
     "execution_count": 21,
     "metadata": {},
     "output_type": "execute_result"
    }
   ],
   "source": [
    "d = defaultdict(lambda: 10)\n",
    "d[\"new key\"]"
   ]
  },
  {
   "cell_type": "code",
   "execution_count": 22,
   "metadata": {
    "collapsed": false
   },
   "outputs": [
    {
     "data": {
      "text/plain": [
       "defaultdict(float, {})"
      ]
     },
     "execution_count": 22,
     "metadata": {},
     "output_type": "execute_result"
    }
   ],
   "source": [
    "d = defaultdict(lambda: defaultdict(float))\n",
    "d[\"new key\"]"
   ]
  },
  {
   "cell_type": "markdown",
   "metadata": {},
   "source": [
    "Clever use of a `defaultdict` can be the solution to the problem of data-storing in a smoothing $N$-gram pointed out above:\n",
    "    \n",
    "    ngram = defaultdict(lambda: k/(N+kV), ngram)"
   ]
  },
  {
   "cell_type": "markdown",
   "metadata": {},
   "source": [
    "The following function is given:"
   ]
  },
  {
   "cell_type": "code",
   "execution_count": 23,
   "metadata": {
    "collapsed": true
   },
   "outputs": [],
   "source": [
    "train_file = os.path.join(data_dir, \"ted/ted-train.txt\")\n",
    "\n",
    "def read(fname, max_lines=np.inf):\n",
    "    \"\"\"\n",
    "    Reads in the data in fname and returns it as\n",
    "    one long list of words. Also returns a vocabulary in\n",
    "    the form of a word2index and index2word dictionary.\n",
    "    \"\"\"\n",
    "    data = []\n",
    "    # w2i will automatically keep a counter to asign to new words\n",
    "    w2i = defaultdict(lambda: len(w2i))\n",
    "    i2w = dict()\n",
    "    start = \"<s>\"\n",
    "    end = \"</s>\"\n",
    "    \n",
    "    with open(fname, \"r\") as fh:\n",
    "        for k, line in enumerate(fh):\n",
    "            if k > max_lines:\n",
    "                break\n",
    "            words = line.strip().split()\n",
    "            # assign an index to each word\n",
    "            for w in words:\n",
    "                i2w[w2i[w]] = w # trick\n",
    "            \n",
    "            sent = [start] + words + [end]\n",
    "            data.append(sent)\n",
    "\n",
    "    return data, w2i, i2w"
   ]
  },
  {
   "cell_type": "code",
   "execution_count": 24,
   "metadata": {
    "collapsed": true
   },
   "outputs": [],
   "source": [
    "# since in the next sections we use multiple models, we decided to group them in the dictionary ngrams_dict.\n",
    "# In this way, we can train the models once and then use them when needed. \n",
    "# When a new ngram model is needed, it can be added to this dictionary.\n",
    "# its usage is straightforward: ngrams_dict[N][k] contains the trained N-gram with k-smoothing.\n",
    "ngrams_dict = defaultdict(dict)\n",
    "\n",
    "# trains the ngram. we added the additional parameter V, which is the size of the vocabulary \n",
    "# including start of sentence token and end of sentence\n",
    "# notice, we use np.float64 in order to have more precise results\n",
    "def train_ngram(data, N, V, k=0):\n",
    "    \"\"\"\n",
    "    Trains an n-gram language model with optional add-k smoothing\n",
    "    and additionaly returns the unigram model\n",
    "    \n",
    "    :param data: text-data as returned by read\n",
    "    :param N: (N>1) the order of the ngram e.g. N=2 gives a bigram\n",
    "    :param k: optional add-k smoothing\n",
    "    :returns: ngram and unigram\n",
    "    \"\"\"\n",
    "    ngram = defaultdict(Counter) # ngram[history][word] = #(history,word)\n",
    "    unpacked_data = [word for sent in data for word in sent]\n",
    "    unigram = defaultdict(np.float64, Counter(unpacked_data)) # default prob is 0.0\n",
    "    \n",
    "    # smoothing of the unigram\n",
    "    for key in unigram.keys():\n",
    "        unigram[key] = np.float64(unigram[key] + k)/np.float64(len(unpacked_data) + k * V)\n",
    "    \n",
    "    # we use a generator to create the possible histories so that we do not allocate a whole list in memory. \n",
    "    # this also results in faster training\n",
    "    def hist():\n",
    "        i = 0\n",
    "        while i < len(unpacked_data) - N + 1:\n",
    "            current_history = unpacked_data[i:i+N]\n",
    "            i += 1\n",
    "            if current_history[-1] == '</s>':\n",
    "                i += N - 1\n",
    "            yield current_history\n",
    "        \n",
    "    # updating the counts for the ngram\n",
    "    for element in hist():\n",
    "        n_word_comb = tuple(element[:-1])\n",
    "        word = element[-1]\n",
    "        ngram[n_word_comb][word] += 1\n",
    "        \n",
    "    # converting the counts to probabilities\n",
    "    for history in ngram:\n",
    "        # we save the values to a local variable so that all counts of the words are divided by the same correct number\n",
    "        count_history = sum(ngram[history].values())\n",
    "        for word in ngram[history]:\n",
    "            ngram[history][word] = np.float64(ngram[history][word] + k)/np.float64(count_history + k * V)\n",
    "        # here we set the default value for words that have not been observed in this history\n",
    "        ngram[history] = defaultdict(\n",
    "            lambda k=k, V=V, count_history=count_history: np.float64(k)/np.float64(count_history + k * V),\n",
    "            ngram[history]\n",
    "        )\n",
    "    ngram = defaultdict(np.float64, ngram)\n",
    "    \n",
    "    return ngram, unigram\n",
    "\n",
    "data, w2i, i2w = read(train_file)\n",
    "\n",
    "# we train N-grams with N = 2,3,4,5\n",
    "for N in range(2, 5):\n",
    "    # if N is already in the dictionary, it means we already have trained the model and don't need to train it again \n",
    "    if N not in ngrams_dict:\n",
    "        # ngrams_dict[N][0] -> ngram with 0 smoothing\n",
    "        # ngrams_dict[1][0] -> unigram with 0 smooting\n",
    "        ngrams_dict[N][0], ngrams_dict[1][0] = train_ngram(data, N=N, V=len(w2i)+2, k=0)\n",
    "        # ngrams_dict[N][1] -> ngram with 1 smoothing\n",
    "        # ngrams_dict[1][1] -> unigram with 1 smooting\n",
    "        ngrams_dict[N][1], ngrams_dict[1][1] = train_ngram(data, N=N, V=len(w2i)+2, k=1)"
   ]
  },
  {
   "cell_type": "markdown",
   "metadata": {},
   "source": [
    "## Exercise 2.2 (5 points)\n",
    "\n",
    "You can use an *N*-gram language model to **generate text**. The higher the order *N* the better your model will be able to catch the long-range dependecies that occur in actual sentences and the better your changes are at generating sensible text. But beware: **sparsity** of language data will quickly cause your model to reproduce entire lines from your training data; in such cases only one $w_k$ was observed for the histories $w_{k-N+1}\\dots w_{k-1}$ in the entire training-set.\n",
    "\n",
    "**Complete** the function `generate_sent`. It takes a language model `lm` and an order `N` and should generate a sentence by **sampling** from the language model.\n",
    "\n",
    "**[Hint]** You can use the method of [inverse transform sampling](https://en.wikipedia.org/wiki/Inverse_transform_sampling) to generate a sample from a **categorical distribution**, $p_1\\dots p_k$ such that $p_i \\geq 0$ and $\\sum_{i=1}^k p_i = 1$, as follows:"
   ]
  },
  {
   "cell_type": "code",
   "execution_count": 25,
   "metadata": {
    "collapsed": false
   },
   "outputs": [
    {
     "name": "stdout",
     "output_type": "stream",
     "text": [
      "2\n",
      "Counter({2: 499, 1: 218, 3: 189, None: 94})\n"
     ]
    }
   ],
   "source": [
    "from random import random\n",
    "\n",
    "P = [0.2,0.5,0.2,0.1]\n",
    "\n",
    "def sample(P):\n",
    "    u = random() # uniformly random number between 0 and 1\n",
    "    p = 0\n",
    "    for i, p_i in enumerate(P):\n",
    "        if p > u: \n",
    "            return i # the first i s.t. p1 + ... + pi > u\n",
    "        p += p_i\n",
    "\n",
    "# this function has been created using the original sample function so that we can exploit the ngram dictionary.\n",
    "def sample_from_dict(d):\n",
    "    # very important: by multiplying by the total probability of seen words for a given history, \n",
    "    # we make sure that we will get a word, and that it will be an observed one\n",
    "    u = random() * sum(d.values()) \n",
    "\n",
    "    # the rest of the function is very similar to the original sample function\n",
    "    p = 0\n",
    "    for k in d:\n",
    "        # d[k] is the probability of word k in the current history\n",
    "        p += d[k]\n",
    "        if p >= u: \n",
    "            return k \n",
    "        \n",
    "print(sample(P))\n",
    "\n",
    "print(Counter([sample(P) for i in range(1000)])) # check to see if the law of large numbers is still true"
   ]
  },
  {
   "cell_type": "markdown",
   "metadata": {},
   "source": [
    "Inverse transform sampling in the words of Jurafsky and Martin:\n",
    "\n",
    "> Imagine all the words of the English language covering the probability space\n",
    "between 0 and 1, each word covering an interval proportional to its frequency. We\n",
    "choose a random value between 0 and 1 and print the word whose interval includes\n",
    "this chosen value.\n",
    "\n",
    "(J&M, section 4.3)"
   ]
  },
  {
   "cell_type": "code",
   "execution_count": 26,
   "metadata": {
    "collapsed": false
   },
   "outputs": [
    {
     "name": "stdout",
     "output_type": "stream",
     "text": [
      "And it was rejected sheep from China and put into studying fly .\n"
     ]
    }
   ],
   "source": [
    "\n",
    "# the language model (lm) in input is meant to be ngrams_dict, the full dictionary of ngrams\n",
    "# N is as usual the dimension of the N-gram\n",
    "def generate_sent(lm, N):\n",
    "    text = []\n",
    "    limit = 100001 # after limit generated words, we force the sentence to stop\n",
    "    k = 1\n",
    "    sentence = ['<s>'] # the sentence starts with a start of sentence symbol\n",
    "    next_word = ' '\n",
    "    # this first for loop is used to create the first senquence of N-1 words so that later we can fully use the N-gram \n",
    "    # to generate the new words\n",
    "    # we incrementally generate N-grams so that we can correctly generate the first words\n",
    "    for n in range(2, N+1):\n",
    "        if n in lm and k in lm[n]: # this means that we have already trained an ngram with k smoothing\n",
    "            ngram = lm[n][k]\n",
    "        else: # we need to train the model\n",
    "            ngram, unigram = train_ngram(data, N=n, V=len(w2i)+2, k=1)\n",
    "            lm[n][k], lm[1][k] = ngram, unigram   \n",
    "            \n",
    "        if n == N: # this means we can proceed with the rest of the generation of the sentence\n",
    "            break\n",
    "        \n",
    "        key = sentence[-n+1:] # last n-1 words\n",
    "        d_gen = ngram[tuple(key)]\n",
    "        next_word = sample_from_dict(d_gen) # prediction of the next word using a n-gram moedel (notice the lowercase n)\n",
    "        sentence.append(next_word)\n",
    "        if next_word == '</s>': # the prediction is the end of sentence token, we can terminate\n",
    "            return sentence[1:-1] # ignore the start and end token here to return pure sentence\n",
    "        if len(sentence) == limit: # sentence longer than the limit, force termination\n",
    "            return sentence[1:] # ignore the start token here to return pure sentence\n",
    "    \n",
    "    while next_word != '</s>' and len(sentence) < limit: # generate words as long as it is possible\n",
    "        ngram = lm[N][k]\n",
    "        key = sentence[-N+1:] # get the last N-1 words of the sentence \n",
    "        d_gen = ngram[tuple(key)]\n",
    "        next_word = sample_from_dict(d_gen) # prediction of the next word using the N-gram model\n",
    "        sentence.append(next_word)\n",
    "    if sentence[-1] != '</s>': \n",
    "        sentence.append('</s>') # correct the output sentence\n",
    "    return sentence[1:-1] # ignore the start and end token here to return pure sentence\n",
    "\n",
    "sentence = ' '.join(generate_sent(ngrams_dict, 2))\n",
    "print(sentence)"
   ]
  },
  {
   "cell_type": "markdown",
   "metadata": {},
   "source": [
    "### [Optional]\n",
    "\n",
    "For how many of the histories $w_{k-N+1}\\dots w_{k-1}$ is the number of continuations $w_n$ equal to **one**? Calculate the percentage of such cases for the different orders *N*.\n",
    "\n",
    "And which history has the **most possible continuations**?"
   ]
  },
  {
   "cell_type": "code",
   "execution_count": 27,
   "metadata": {
    "collapsed": false
   },
   "outputs": [
    {
     "name": "stdout",
     "output_type": "stream",
     "text": [
      "The following answer is based on the bigram without smoothing.\n",
      "\n",
      "The number of histories with just one continuation is 37166\n",
      "\n",
      "The word with most possible continuations is 'the', and it has 19019 possible continuations\n"
     ]
    }
   ],
   "source": [
    "ngram_model = ngrams_dict[2][0]\n",
    "print('The following answer is based on the bigram without smoothing.\\n')\n",
    "print('The number of histories with just one continuation is {0}\\n'\\\n",
    "      .format(sum( (1 if len(ngram_model[history]) == 1 else 0 for history in ngram_model)) ) )\n",
    "\n",
    "idx = np.argmax([len(ngram_model[history]) for history in ngram_model])\n",
    "maxx = np.max([len(ngram_model[history]) for history in ngram_model])\n",
    "print('The word with most possible continuations is \\'{0}\\', and it has {1} possible continuations'\\\n",
    "      .format(list(ngram_model.keys())[idx][0], maxx))\n",
    "\n"
   ]
  },
  {
   "cell_type": "markdown",
   "metadata": {},
   "source": [
    "## Excercise 2.3 (5 points)\n",
    "\n",
    "Let $V$ denote our vocabulary. Recall that for any $w$ in $V$ `bigram[w]` defines a conditional probability $p(v|w)$ over $v$ in $V$. In the case of an **unsmoothed bigram**, $p(v|w) = 0$ for most $v\\in V$, whereas in the **smoothed bigram** smoothing took care that $p(v|w) \\geq 0$ for *all* $v$.\n",
    "\n",
    "The function `plot_bigram_dist(word, bigram, smoothbigram, k=30)` plots shows $p(v|word)$ for the `k` words $v$. One bar shows the probabilities in `bigram` and one in `smoothbigram`. \n",
    "\n",
    "**(a)** Use this function to plot the distribution for at least two words `w` and answer the questions\n",
    "* What is the effect of smoothing on the bigram distribution of frequent words? \n",
    "* What is the effect in the case of infrequent words?\n",
    "* Explain the difference between the two based on the raw counts of `w` \n",
    "\n",
    "**(b)** Now experiment with $k$ much smaller than 1 (but greater than 0!) \n",
    "* What are the effects?\n",
    "\n",
    "\n",
    "**[Hint]** Remember that add-1 smoothing turns \n",
    "$$P(w_n\\mid w_{n-1}) = \\frac{C(w_{n-1}w_{n})}{C(w_{n-1})}$$\n",
    "into\n",
    "$$P_{add-1}(w_n\\mid w_{n-1}) = \\frac{C(w_{n-1}w_{n}) + 1}{C(w_{n-1}) + |V|}.$$\n",
    "\n",
    "What happens when $C(w_{n-1})$ is relatively big (similiar in of size as $ |V| $)? And what if $C(w_{n-1})$ is small? "
   ]
  },
  {
   "cell_type": "code",
   "execution_count": 28,
   "metadata": {
    "collapsed": true
   },
   "outputs": [],
   "source": [
    "import pandas as pd\n",
    "import seaborn as sns    \n",
    "\n",
    "def plot_bigram_dist(word, bigram, smoothbigram, k=30):\n",
    "    d = bigram[word]\n",
    "    ds = smoothbigram[word]\n",
    "    \n",
    "    # sort the probabilities\n",
    "    d_sort = sorted(d.items(), reverse=True, key=lambda t: t[1])[0:k]\n",
    "    ds_sort = sorted(ds.items(), reverse=True, key=lambda t: t[1])[0:k]\n",
    "    \n",
    "    _, probs = zip(*d_sort)\n",
    "    smooth_ws, smooth_probs = zip(*ds_sort)\n",
    "    \n",
    "    # make up for the fact that in the unsmoothed case  probs is generally less than k long\n",
    "    probs = probs + (0,) * (k-len(probs)) \n",
    "\n",
    "    w_data = pd.DataFrame({\"w\": smooth_ws * 2,\n",
    "                           \"P({}|w)\".format(word[0]): probs + smooth_probs,\n",
    "                           \"smoothing\": [\"unsmoothed\"]*k + [\"smoothed\"]*k})\n",
    "    \n",
    "    fig, ax = plt.subplots(figsize=(10,10))\n",
    "    plt.xticks(rotation=90)\n",
    "    g = sns.barplot(ax=ax, x=\"w\", y=\"P({}|w)\".format(word[0]), hue=\"smoothing\",\n",
    "                    data=w_data, palette=\"Blues_d\")    "
   ]
  },
  {
   "cell_type": "code",
   "execution_count": 29,
   "metadata": {
    "collapsed": false,
    "scrolled": true
   },
   "outputs": [
    {
     "data": {
      "image/png": "[encoded data removed]",
      "text/plain": [
       "<matplotlib.figure.Figure at 0x7fdb2c7fff60>"
      ]
     },
     "metadata": {},
     "output_type": "display_data"
    },
    {
     "data": {
      "image/png": "[encoded data removed]",
      "text/plain": [
       "<matplotlib.figure.Figure at 0x7fd9ff135d30>"
      ]
     },
     "metadata": {},
     "output_type": "display_data"
    }
   ],
   "source": [
    "plot_bigram_dist(('the',), bigram = ngrams_dict[2][0], smoothbigram = ngrams_dict[2][1])\n",
    "plot_bigram_dist(('!',), bigram = ngrams_dict[2][0], smoothbigram = ngrams_dict[2][1])"
   ]
  },
  {
   "cell_type": "code",
   "execution_count": 30,
   "metadata": {
    "collapsed": false,
    "scrolled": true
   },
   "outputs": [
    {
     "data": {
      "image/png": "[encoded data removed]",
      "text/plain": [
       "<matplotlib.figure.Figure at 0x7fd9fa9551d0>"
      ]
     },
     "metadata": {},
     "output_type": "display_data"
    },
    {
     "data": {
      "image/png": "[encoded data removed]",
      "text/plain": [
       "<matplotlib.figure.Figure at 0x7fd9fde10e80>"
      ]
     },
     "metadata": {},
     "output_type": "display_data"
    }
   ],
   "source": [
    "k = 0.01\n",
    "if k not in ngrams_dict[2]:\n",
    "    ngrams_dict[2][k], ngrams_dict[1][k] = train_ngram(data, N=2, V=len(w2i)+2, k=k)\n",
    "\n",
    "plot_bigram_dist(('the',), bigram = ngrams_dict[2][0], smoothbigram = ngrams_dict[2][k])\n",
    "plot_bigram_dist(('!',), bigram = ngrams_dict[2][0], smoothbigram = ngrams_dict[2][k])"
   ]
  },
  {
   "cell_type": "markdown",
   "metadata": {},
   "source": [
    "ANSWER:\n",
    "\n",
    "For frequent words such as 'the', we can see that the smoothed probabilities are lower as expected. The gaps in the probabilities are redistributed to unseen words.\n",
    "\n",
    "For not that frequent words such as '!', we can see that the smoothed probabilities are relatively much lower. This is because since the probabilities of the observed words are already low, the probability mass is distributed almost equally between all the words of the vocabulary.\n",
    "\n",
    "\n",
    "when k is very small however, we notice a different behavior. For frequent words such as 'the', the smoothed probabilities remain almost the same. For infrequent words such as '!', we still notice a decrease in the probability of the observed words, although the difference is not as significant as with k=1\n",
    "\n",
    "when $c(w_{n-1})$ is high, we have that the term k is almost irrelevant and the probability is close to $\\frac{ c(w_{n-1}w_n) }{c(w_{n-1}) + kV}$\n",
    "\n",
    "when $c(w_{n-1})$ is small we have that the probability is close to $\\frac{1}{V}$"
   ]
  },
  {
   "cell_type": "markdown",
   "metadata": {},
   "source": [
    "\n",
    "**Recall** that if we have a sentence $w_1,\\dots,w_n$ we can write\n",
    "\n",
    "$$P(w_1\\dots w_n) = P(w_1)P(w_2|w_1) \\cdots P(w_i|w_1 \\dots w_{n-1}) \\approx P(w_1)P(w_2|w_1)\\cdots P(w_{N-1}|w_1\\dots w_{N-2})\\prod_{i=N}^{n} P(w_i|w_{i-(N-1)}\\dots w_{i-1})$$\n",
    "\n",
    "where in the last step we make an $N$-gram approximation of the full conditionals.\n",
    "\n",
    "For example, in the case of a bigram (N=2), the above expression reduces to\n",
    "\n",
    "$$P(w_1 \\dots w_n)\\approx P(w_1)\\prod_{i=2}^{n} P(w_i| w_{i-1}).$$\n",
    "\n",
    "## Exercise 2.4 (5 points)\n",
    "\n",
    "The following sentences are taken from the **training data**. Use your **unsmoothed unigram**, **bigram**, and **trigram** language model to estimate their **probabilities**:\n",
    "\n",
    "    1. Every day was about creating something new .\n",
    "    2. In this machine , a beam of protons and anti-protons are accelerated to near the speed of light and brought \n",
    "       together in a collision , producing a burst of pure energy .\n",
    "\n",
    "**Repeat** this with the **smoothed (add-1)** versions of the N-grams. What is the effect of smoothing on the probabilities?\n"
   ]
  },
  {
   "cell_type": "code",
   "execution_count": 31,
   "metadata": {
    "collapsed": true
   },
   "outputs": [],
   "source": [
    "def sent_prob(sent, k, N, lm):\n",
    "    sent_ngram_prob = 1.0\n",
    "    unigram = {}\n",
    "    \n",
    "    for n in range(2, N+1):\n",
    "        # check if we have an n gram with k smoothing, and also an unigram with k smoothing\n",
    "        if n in ngrams_dict and k in lm[n] and k in lm[1]:\n",
    "            ngram, unigram = lm[n][k], lm[1][k]\n",
    "        else: # if not, we have to train the ngram (together with the unigram)\n",
    "            ngram, unigram = train_ngram(data, N=n, V=len(w2i)+2, k=k)\n",
    "            lm[n][k], lm[1][k] = ngram, unigram\n",
    "        \n",
    "        if n < N:\n",
    "            # we use lambda to make function more general\n",
    "            # when history hasn't been seen, we just return 0.0\n",
    "            # while when it has been seen, we search for a probability of a specific word\n",
    "            val = (lambda: ngram[tuple(sent[:n-1])][sent[n-1]] \n",
    "                                if ngram[tuple(sent[:n-1])] != 0.0 \n",
    "                                else ngram[tuple(sent[:n-1])])()\n",
    "            sent_ngram_prob *= val\n",
    "        else:\n",
    "            # generate the ngrams of the sentence\n",
    "            sent_ngrams = [sent[i:i+n] for i in range(len(sent) - n + 1)]\n",
    "            \n",
    "            sent_ngram_prob *= np.product([ngram[tuple(ngram_val[:-1])][ngram_val[-1]] # probability of the word in this history\n",
    "                                            if ngram[tuple(ngram_val[:-1])] != 0.0 # this is for histories that have not appeared\n",
    "                                            else ngram[tuple(ngram_val[:-1])] # if history did not appear, then return the default value for the history, which is zero\n",
    "                                            for ngram_val in sent_ngrams]) # for every ngram, we have ngram_val[:-1] is the history, ngram_val[-1] is the current word\n",
    "            \n",
    "    # finally, compute the probabilities for the unigram\n",
    "    sent_unigram_prob = np.product([unigram[word] for word in sent])\n",
    "    \n",
    "    return sent_ngram_prob, sent_unigram_prob"
   ]
  },
  {
   "cell_type": "code",
   "execution_count": 32,
   "metadata": {
    "collapsed": false
   },
   "outputs": [
    {
     "name": "stdout",
     "output_type": "stream",
     "text": [
      "Probability of sentence 1:\n",
      " \n",
      "\tUsing 0 smoothing:\n",
      "\n",
      "\t\t3-gram: 1.2410921667414378e-11\n",
      "\n",
      "\t\t2-gram: 4.667998867880972e-17\n",
      "\n",
      "\t\tunigram: 8.711492631550748e-27\n",
      "\n",
      "\tUsing 1 smoothing:\n",
      "\n",
      "\t\t3-gram: 1.5368267602896025e-35\n",
      "\n",
      "\t\t2-gram: 1.3642489842696694e-26\n",
      "\n",
      "\t\tunigram: 7.628943757061614e-27\n",
      "\n",
      "Probability of sentence 2:\n",
      " \n",
      "\tUsing 0 smoothing:\n",
      "\n",
      "\t\t3-gram: 3.5704327475022527e-31\n",
      "\n",
      "\t\t2-gram: 2.0159953795734388e-72\n",
      "\n",
      "\t\tunigram: 2.7545011290780525e-102\n",
      "\n",
      "\tUsing 1 smoothing:\n",
      "\n",
      "\t\t3-gram: 1.4019256514798234e-136\n",
      "\n",
      "\t\t2-gram: 1.555307447842366e-116\n",
      "\n",
      "\t\tunigram: 4.109546393965371e-102\n",
      "\n"
     ]
    }
   ],
   "source": [
    "sent1 = '<s> Every day was about creating something new . </s>'.split()\n",
    "sent2 = '<s> In this machine , a beam of protons and anti-protons are accelerated to near the speed of light and brought \\\n",
    "together in a collision , producing a burst of pure energy . </s>'.split()\n",
    "\n",
    "for i, sent in enumerate([sent1, sent2]):\n",
    "    print(\"Probability of sentence {0}:\\n \".format(i+1))\n",
    "    for k in range(2):\n",
    "        print(\"\\tUsing {0} smoothing:\\n\".format(k))        \n",
    "\n",
    "        for N in range(3, 1, -1):\n",
    "            sent_ngram_prob, sent_unigram_prob = sent_prob(sent, k, N, ngrams_dict)\n",
    "            print(\"\\t\\t{0}-gram: {2}\\n\".format(N, k, sent_ngram_prob))\n",
    "\n",
    "        print(\"\\t\\tunigram: {1}\\n\".format(k, sent_unigram_prob))\n"
   ]
  },
  {
   "cell_type": "markdown",
   "metadata": {},
   "source": [
    "ANSWER:\n",
    "\n",
    "The smoothing does not affect much the probabilities calculated using the unigrams, but clearly decreases the probability of having the analyzed sentence by several orders of magnitude for bigrams and even more for trigrams"
   ]
  },
  {
   "cell_type": "markdown",
   "metadata": {},
   "source": [
    "## Exercise 2.5 (5 points)\n",
    "\n",
    "The above sentences were taken from the training set, hence they will all have probability greater than 0. The big challenge for our language model are of course with sentence that contain unseen N-grams: if such an N-gram occurs our model immediately assigns the sentence probability zero.\n",
    "\n",
    "The following three senteces are taken from the **test set** availlable in the file **ted-test.txt**. What probabilities do your smoothed and unsmoothed language models asign in this case?\n",
    "\n",
    "    1. Because these robots are really safe .\n",
    "    2. We have sheer nothingness on one side , and we have this vision of a reality that encompasses every \n",
    "       conceivable world at the other extreme : the fullest possible reality , nothingness , the simplest possible \n",
    "       reality ."
   ]
  },
  {
   "cell_type": "code",
   "execution_count": 33,
   "metadata": {
    "collapsed": false
   },
   "outputs": [
    {
     "name": "stdout",
     "output_type": "stream",
     "text": [
      "Probability of sentence 1:\n",
      " \n",
      "\tUsing 0 smoothing:\n",
      "\n",
      "\t\t3-gram: 0.0\n",
      "\n",
      "\t\t2-gram: 2.6913665324688018e-15\n",
      "\n",
      "\t\tunigram: 3.5731707008639346e-24\n",
      "\n",
      "\tUsing 1 smoothing:\n",
      "\n",
      "\t\t3-gram: 2.4686213252546237e-33\n",
      "\n",
      "\t\t2-gram: 7.259172702960281e-24\n",
      "\n",
      "\t\tunigram: 3.1752807875634993e-24\n",
      "\n",
      "Probability of sentence 2:\n",
      " \n",
      "\tUsing 0 smoothing:\n",
      "\n",
      "\t\t3-gram: 0.0\n",
      "\n",
      "\t\t2-gram: 0.0\n",
      "\n",
      "\t\tunigram: 3.699664748429897e-120\n",
      "\n",
      "\tUsing 1 smoothing:\n",
      "\n",
      "\t\t3-gram: 0.0\n",
      "\n",
      "\t\t2-gram: 1.050158700443956e-126\n",
      "\n",
      "\t\tunigram: 3.60960523835821e-120\n",
      "\n"
     ]
    }
   ],
   "source": [
    "sent1 = '<s> Because these robots are really safe . </s>'.split()\n",
    "sent2 = '<s> We have sheer nothingness on one side , and we have this vision of a reality that encompasses every \\\n",
    "conceivable world at the other extreme : the fullest possible reality , nothingness , the simplest possible \\\n",
    "reality . </s>'.split()\n",
    "\n",
    "for i, sent in enumerate([sent1, sent2]):\n",
    "    print(\"Probability of sentence {0}:\\n \".format(i+1))\n",
    "    for k in range(2):\n",
    "        print(\"\\tUsing {0} smoothing:\\n\".format(k))\n",
    "        \n",
    "        for N in range(3, 1, -1):\n",
    "            sent_ngram_prob, sent_unigram_prob = sent_prob(sent, k, N, ngrams_dict)\n",
    "            print(\"\\t\\t{0}-gram: {2}\\n\".format(N, k, sent_ngram_prob))\n",
    "        \n",
    "        print(\"\\t\\tunigram: {1}\\n\".format(k, sent_unigram_prob))"
   ]
  },
  {
   "cell_type": "markdown",
   "metadata": {},
   "source": [
    "### [Optional]\n",
    "\n",
    "**Optional** What percentage of the sentences in the test set get assigned probability 0 under your smoothed and unsmoothed language models? "
   ]
  },
  {
   "cell_type": "code",
   "execution_count": 34,
   "metadata": {
    "collapsed": false
   },
   "outputs": [
    {
     "name": "stdout",
     "output_type": "stream",
     "text": [
      "Percentage of the sentences with 0 probability using bigrams:\n",
      "\n",
      "\t without smoothing:71.329%\n",
      "\n",
      "\t with smoothing: 11.189%\n",
      "\n"
     ]
    }
   ],
   "source": [
    "test_file = os.path.join(data_dir, \"ted/ted-test.txt\")\n",
    "data_test, w2i_test, i2w_test = read(test_file)\n",
    "\n",
    "N = 2\n",
    "c0 = 0\n",
    "c1 = 0\n",
    "\n",
    "for sent in data_test:\n",
    "        sent_ngram_prob, sent_unigram_prob = sent_prob(sent, 0, N, ngrams_dict)\n",
    "        if sent_ngram_prob == 0.0:\n",
    "            c0 += 1\n",
    "        sent_ngram_prob, sent_unigram_prob = sent_prob(sent, 1, N, ngrams_dict)\n",
    "        if sent_ngram_prob == 0.0:\n",
    "            c1 += 1\n",
    "print('Percentage of the sentences with 0 probability using bigrams:\\n')\n",
    "print('\\t without smoothing:{0}%\\n'.format(np.round((c0*100/ len(data_test)), 3)))\n",
    "print('\\t with smoothing: {0}%\\n'.format(np.round((c1*100/len(data_test)), 3)))"
   ]
  },
  {
   "cell_type": "markdown",
   "metadata": {},
   "source": [
    "## Exercise 2.6 (5 points)\n",
    "\n",
    "**Perplexity** is very frequently used **metric** for evaluating probabilistic models such as language models. The perplexity (sometimes called **PP** for short) of a language model on a sentence is the **inverse probability** of the sentence, **normalized** by the number of words:\n",
    "\n",
    "$$PP(w_1 \\dots w_n) = P(w_1\\dots w_n)^{-\\frac{1}{n}}.$$\n",
    "\n",
    "Here we can again approximate $P(w_1 \\dots w_n)$ with N-gram probabilities, as above.\n",
    "Note: $(x_1\\cdots x_n)^{-\\frac{1}{n}}$ is the **geometric mean** of the numbers $x_1,\\dots,x_n$. It is like the (regular) artithmetic mean, but with **products** instead of **sums**. The geometric mean is a more natural choice in the case of *PP* because behind $P(w_1\\dots w_n)$ is a series of $n$ products ([more here](https://en.wikipedia.org/wiki/Geometric_mean)).\n",
    "\n",
    "\n",
    "\n",
    "Compute the perplexity of the training sentences from excercise 2.1. What big difference between the **probabilities** of the sentences and the **perplexities** of the sentences do you notice?"
   ]
  },
  {
   "cell_type": "code",
   "execution_count": 35,
   "metadata": {
    "collapsed": false
   },
   "outputs": [
    {
     "name": "stdout",
     "output_type": "stream",
     "text": [
      "Perplexity of sentence 1: \n",
      "\n",
      "\tUsing 0 smoothing:\n",
      "\n",
      "\t\t3-gram: 12.32025215638067\n",
      "\n",
      "\t\t2-gram: 42.9622408820975\n",
      "\n",
      "\t\tunigram: 403.63678900916966\n",
      "\n",
      "\tUsing 1 smoothing:\n",
      "\n",
      "\t\t3-gram: 3029.2666846582733\n",
      "\n",
      "\t\t2-gram: 385.9318631434462\n",
      "\n",
      "\t\tunigram: 409.0284897884788\n",
      "\n",
      "Perplexity of sentence 2: \n",
      "\n",
      "\tUsing 0 smoothing:\n",
      "\n",
      "\t\t3-gram: 7.8615505281093725\n",
      "\n",
      "\t\t2-gram: 128.43739376623046\n",
      "\n",
      "\t\tunigram: 970.6386043998526\n",
      "\n",
      "\tUsing 1 smoothing:\n",
      "\n",
      "\t\t3-gram: 9901.125362639064\n",
      "\n",
      "\t\t2-gram: 2547.5519644554456\n",
      "\n",
      "\t\tunigram: 959.2840832965023\n",
      "\n"
     ]
    }
   ],
   "source": [
    "sent1 = '<s> Every day was about creating something new . </s>'.split()\n",
    "sent2 = '<s> In this machine , a beam of protons and anti-protons are accelerated to near the speed of light and brought \\\n",
    "together in a collision , producing a burst of pure energy . </s>'.split()\n",
    "\n",
    "for i, sent in enumerate([sent1, sent2]):\n",
    "    print(\"Perplexity of sentence {0}: \\n\".format(i+1))\n",
    "    for k in range(2):\n",
    "        print(\"\\tUsing {0} smoothing:\\n\".format(k))\n",
    "        \n",
    "        for N in range(3, 1, -1):\n",
    "            sent_ngram_prob, sent_unigram_prob = sent_prob(sent, k, N, ngrams_dict)\n",
    "            sent_ngram_pp = np.power(sent_ngram_prob, -1/len(sent))\n",
    "            print(\"\\t\\t{0}-gram: {2}\\n\".format(N, k, sent_ngram_pp))\n",
    "        \n",
    "        sent_unigram_pp = np.power(sent_unigram_prob, -1/len(sent))\n",
    "        print(\"\\t\\tunigram: {1}\\n\".format(k, sent_unigram_pp))\n"
   ]
  },
  {
   "cell_type": "markdown",
   "metadata": {},
   "source": [
    "ANSWER:\n",
    "\n",
    "The main difference between probabilities and perplexities is that the higher are the probabilities, the lower is perplexity and vice versa, so our goal is to minimize perplexity, thus maximizing the probability.\n",
    "\n",
    "We notice that the smoothing has a very strong impact also on the perplexities. Again, this impact is little for unigram and increases for bigrams and even more for trigrams."
   ]
  },
  {
   "cell_type": "markdown",
   "metadata": {},
   "source": [
    "# That's it!\n",
    "\n",
    "Congratulations, you have made it to the end of the tutorial. Here we will recap the gist of this notebook. \n",
    "\n",
    "**Make sure all your cells can be executed and all your answers are there. Then, read on if you're interested!**\n",
    "\n",
    "-----\n",
    "\n",
    "By now you should have a solid feeling for the problem of **sparsity in language data**; there's just never enough data. For the task of language modelling, we saw that sparsity is a serious challenge. \n",
    "\n",
    "It would be great to be able to model $p(w_n|w_1 \\dots w_{n-1})$ for unlimited $n$: the larger $n$ the better our language model should become at capturing the long-range dependencies between words that characterize actual human sentences, and the more probability our model will asign to such sentences as opposed to sentences that are word-soup. But in the N-gram approach, increasing $n$ will quickly kill all generalizing abilities of the model: the model will start to asign probabilities only to sentences it has seen in the training data.\n",
    "\n",
    "So, where to go from here? Here are three directions that we could head in.\n",
    "\n",
    "### Smoothing\n",
    "\n",
    "We have seen one example of smoothing in this lab: add-k smoothing. This is an easy method, both conceptually and implementation-wise. But the results are not great, and the effects it has on the distributions can be extreme.\n",
    "\n",
    "A much more sophisticated method of smoothing is so-called **Kneser-Ney smoothing**. The method is described in detail in section 4.5 of J&M (3rd edition). This is one of the best performing N-gram smoothing methods, and up to a few years ago a popular implementation of it called [KenLM](https://kheafield.com/code/kenlm/) gave state of the art results.\n",
    "\n",
    "### From words to characters\n",
    "\n",
    "In this lab we have considered language modeling as the task of predicting a **word** $w_n$ based on a history of **words** $w_1\\cdots w_n$. What if instead we let our basic units of modelling be **characters**? The task then becomes to model $p(c_k\\mid c_{k-N-1}\\dots c_{k-1})$ where each $c_i$ is now an ASCII character instead of an entire word.\n",
    "\n",
    "Suddenly sparsity of data is no longer a problem! The set of characters to use is tiny (< 100) compared to even a small-sized vocabulary as today. Have a look at this very illustrative notebook written by Yoav Golberg to see such a method in action: [The unreasonable effectiveness of Character-level Language Models](http://nbviewer.jupyter.org/gist/yoavg/d76121df_trainde2618422139).\n",
    "\n",
    "(So what is the downside?)\n",
    "\n",
    "\n",
    "### Neural language models\n",
    "\n",
    "The above notebook was actually written as a response to this blog post by Andrej Karpathy: [The Unreasonable Effectiveness of Recurrent Neural Networks](http://karpathy.github.io/2015/05/21/rnn-effectiveness/). Go ahead and read it if you haven't already: it is a superb introduction to the topic of Recurrent Neural Networks.\n",
    "\n",
    "Neural language models solve the problem of data sparsity in a different manner. Instead of estimating the probabilities $p(w_k\\mid w_{k-N-1}\\dots w_{k-1})$ by counting occurences in the data, they use a neural network $f_{\\theta}$ parametrized by parameters $\\theta$ to predict this probability. The parameters $\\theta$ are learned through optimization. \n",
    "\n",
    "The simplest approach goes like this: each word in the history $w_{k-N-1}\\dots w_{k-1}$ is embedded separately giving  vectors $e_{k-N-1}\\dots e_{k-1}$ and then concatenated into one long vectors $[e_{k-N-1};\\dots ;e_{k-1}]$. The network then uses this history vector to predict a probability distribution over words $w$ in the vocabulary $V$:\n",
    "\n",
    "$$p(w \\mid w_{k-N-1}\\dots w_{k-1}) = f_{\\theta}([e_{k-N-1};\\dots;e_{k-1}]).$$\n",
    "\n",
    "(In order to produce legitimate probabilities the final layer of such a network will be for example a $softmax$.)\n",
    "\n",
    "This provides a solution to the sparsity problem by having the network let the individual embeddings of the words in the history interact through its non-linear transforamtion. We are letting the network figure out the smoothing itself!\n",
    "\n",
    "RNNs are a clever extension of this idea, where a hidden state vector $h$ is re-used and updated at each step $k$ in order to store the information of the entire history up to step $k-1$. That is, an RNN actually does away with the N-order approximation; it tries to model the full conditional directly! That means that\n",
    "\n",
    "$$p(w \\mid w_1\\dots w_{k-1}) \\approx RNN_{\\theta}([e_{k-1};h_{k-1}])$$\n",
    "\n",
    "where the hidden state $h_{k-1}$ is a compression of the *entire history* $w_1\\dots w_{k-1}$.\n",
    "\n",
    "Another great place to learn about RNNs, their problems, and solutions to those, is on the blog of [Christopher Olah](http://colah.github.io/posts/2015-08-Understanding-LSTMs/). The project on language modelling will involve learning more about these methods. \n",
    "\n",
    "-----------\n",
    "(And now, it's time to read the classic essay by Eugene Wigner that gave both of the posts their title: [The Unreasonable Effectiveness of Mathematics in the Natural Sciences](http://www.dartmouth.edu/~matc/MathDrama/reading/Wigner.html))"
   ]
  },
  {
   "cell_type": "code",
   "execution_count": 36,
   "metadata": {
    "collapsed": true
   },
   "outputs": [],
   "source": [
    "# as explained at the beginning of the second exercise, here we use a different approach. \n",
    "# we call our functions with the word augmented to indicate this. \n",
    "# whenever we see a <s> start of sentence symbol, we replace it with N-1 of it. This is because we want to correctly\n",
    "# train our N-gram model for the start of the sentence\n",
    "\n",
    "# clear the memory from previously used variables\n",
    "%reset -f\n",
    "%matplotlib inline\n",
    "import matplotlib\n",
    "import numpy as np\n",
    "import matplotlib.pyplot as plt\n",
    "import os\n",
    "import pandas as pd\n",
    "from collections import Counter, defaultdict\n",
    "\n",
    "data_dir = './'"
   ]
  },
  {
   "cell_type": "code",
   "execution_count": 37,
   "metadata": {
    "collapsed": true
   },
   "outputs": [],
   "source": [
    "train_file = os.path.join(data_dir, \"ted/ted-train.txt\")\n",
    "\n",
    "def read(fname, max_lines=np.inf):\n",
    "    \"\"\"\n",
    "    Reads in the data in fname and returns it as\n",
    "    one long list of words. Also returns a vocabulary in\n",
    "    the form of a word2index and index2word dictionary.\n",
    "    \"\"\"\n",
    "    data = []\n",
    "    # w2i will automatically keep a counter to asign to new words\n",
    "    w2i = defaultdict(lambda: len(w2i))\n",
    "    i2w = dict()\n",
    "    start = \"<s>\"\n",
    "    end = \"</s>\"\n",
    "    \n",
    "    with open(fname, \"r\") as fh:\n",
    "        for k, line in enumerate(fh):\n",
    "            if k > max_lines:\n",
    "                break\n",
    "            words = line.strip().split()\n",
    "            # assign an index to each word\n",
    "            for w in words:\n",
    "                i2w[w2i[w]] = w # trick\n",
    "            \n",
    "            sent = [start] + words + [end]\n",
    "            data.append(sent)\n",
    "\n",
    "    return data, w2i, i2w"
   ]
  },
  {
   "cell_type": "code",
   "execution_count": 38,
   "metadata": {
    "collapsed": true
   },
   "outputs": [],
   "source": [
    "ngrams_dict_augmented = defaultdict(dict)\n",
    "\n",
    "def train_ngram_augmented(data, N, V, k=0):\n",
    "    \"\"\"\n",
    "    Trains an n-gram language model with optional add-k smoothing\n",
    "    and additionaly returns the unigram model\n",
    "    \n",
    "    :param data: text-data as returned by read\n",
    "    :param N: (N>1) the order of the ngram e.g. N=2 gives a bigram\n",
    "    :param k: optional add-k smoothing\n",
    "    :returns: ngram and unigram\n",
    "    \"\"\"\n",
    "    ngram = defaultdict(Counter) # ngram[history][word] = #(history,word)\n",
    "    unpacked_data = [word for sent in data for word in sent]\n",
    "    unigram = defaultdict(np.float64, Counter(unpacked_data)) # default prob is 0.0\n",
    "    for key in unigram.keys():\n",
    "        unigram[key] = np.float64(unigram[key] + k)/np.float64(len(unpacked_data) + k * V)\n",
    "    \n",
    "    ngram_unpacked_data = [item for sublist in ([word] if word != '<s>' else [word]*(N-1) # replicate N-1 times the start of sentence symbol so that we can appropriately use N-grams later\n",
    "                                                for word in unpacked_data)\n",
    "                           for item in sublist]\n",
    "    \n",
    "    # use a generator to decrease memory usage\n",
    "    def hist():\n",
    "        i = 0\n",
    "        while i < len(ngram_unpacked_data) - N + 1:\n",
    "            current_history = ngram_unpacked_data[i:i+N]\n",
    "            i += 1\n",
    "            if current_history[-1] == '</s>':\n",
    "                # here we skip N-1 words, which correspond to the N-1 <s> tokens added before. We do not need ngrams that end with <s>\n",
    "                i += N - 1\n",
    "            yield current_history\n",
    "        \n",
    "    for element in hist():\n",
    "        n_word_comb = tuple(element[:-1]) # history\n",
    "        word = element[-1]\n",
    "        ngram[n_word_comb][word] += 1\n",
    "        \n",
    "    for history in ngram:\n",
    "        count_history = sum(ngram[history].values())\n",
    "        for word in ngram[history]:\n",
    "            ngram[history][word] = np.float64(ngram[history][word] + k)/np.float64(count_history + k * V)\n",
    "        ngram[history] = defaultdict(\n",
    "            lambda k=k, V=V, count_history=count_history: np.float64(k)/np.float64(count_history + k * V),\n",
    "            ngram[history]\n",
    "        )\n",
    "\n",
    "    ngram = defaultdict(np.float64, ngram)\n",
    "    \n",
    "    return ngram, unigram\n",
    "\n",
    "data, w2i, i2w = read(train_file)\n",
    "\n",
    "# train different N-grams\n",
    "for N in range(2, 5):\n",
    "    if N not in ngrams_dict_augmented:\n",
    "        ngrams_dict_augmented[N][0], ngrams_dict_augmented[1][0] = train_ngram_augmented(data, N=N, V=len(w2i)+2, k=0)\n",
    "        ngrams_dict_augmented[N][1], ngrams_dict_augmented[1][1] = train_ngram_augmented(data, N=N, V=len(w2i)+2, k=1)"
   ]
  },
  {
   "cell_type": "code",
   "execution_count": 39,
   "metadata": {
    "collapsed": false
   },
   "outputs": [
    {
     "name": "stdout",
     "output_type": "stream",
     "text": [
      "These are naturally , 63 languages , and explain all , if I 've got to come to choose samples that possible .\n"
     ]
    }
   ],
   "source": [
    "from random import random\n",
    "\n",
    "def sample_from_dict(d):\n",
    "    u = random() * sum(d.values()) # uniformly random number between 0 and 1\n",
    "    p = 0\n",
    "    for k in d:\n",
    "        p += d[k]\n",
    "        if p >= u: \n",
    "            return k # the first i s.t. p1 + ... + pi > u\n",
    "        \n",
    "def generate_sent_augmented(lm, N):\n",
    "    text = []\n",
    "    limit = 100001\n",
    "    k = 1\n",
    "    # start with N-1 start of sentence token because we want to generate words using an N-gram without using lower n-grams\n",
    "    sentence = ['<s>']*(N-1)\n",
    "    next_word = ' '\n",
    "    \n",
    "    # check for retraining\n",
    "    if N in lm and k in lm[N]:\n",
    "        ngram = lm[N][k]\n",
    "    else:\n",
    "        ngram, unigram = train_ngram(data, N=N, V=len(w2i)+2, k=1)\n",
    "        lm[N][k], lm[1][k] = ngram, unigram \n",
    "    # generate words until end of sentence token or limit of words reached\n",
    "    while next_word != '</s>' and len(sentence) < limit:\n",
    "        key = sentence[-N+1:]\n",
    "        d_gen = ngram[tuple(key)]\n",
    "        next_word = sample_from_dict(d_gen) # use the custom sampling function for dictionaries\n",
    "        sentence.append(next_word)\n",
    "    if sentence[-1] != '</s>': \n",
    "        sentence.append('</s>') # correctly append end of sentence token in case of limit reached\n",
    "    return sentence[N-1:-1] # ignore the start and end token here to return pure sentence\n",
    "\n",
    "sentence = ' '.join(generate_sent_augmented(ngrams_dict_augmented, 2))\n",
    "print(sentence)"
   ]
  },
  {
   "cell_type": "code",
   "execution_count": 40,
   "metadata": {
    "collapsed": true
   },
   "outputs": [],
   "source": [
    "import pandas as pd\n",
    "import seaborn as sns    \n",
    "\n",
    "def plot_bigram_dist(word, bigram, smoothbigram, k=30):\n",
    "    d = bigram[word]\n",
    "    ds = smoothbigram[word]\n",
    "    \n",
    "    # sort the probabilities\n",
    "    d_sort = sorted(d.items(), reverse=True, key=lambda t: t[1])[0:k]\n",
    "    ds_sort = sorted(ds.items(), reverse=True, key=lambda t: t[1])[0:k]\n",
    "    \n",
    "    _, probs = zip(*d_sort)\n",
    "    smooth_ws, smooth_probs = zip(*ds_sort)\n",
    "    \n",
    "    # make up for the fact that in the unsmoothed case  probs is generally less than k long\n",
    "    probs = probs + (0,) * (k-len(probs)) \n",
    "\n",
    "    w_data = pd.DataFrame({\"w\": smooth_ws * 2,\n",
    "                           \"P({}|w)\".format(word[0]): probs + smooth_probs,\n",
    "                           \"smoothing\": [\"unsmoothed\"]*k + [\"smoothed\"]*k})\n",
    "    \n",
    "    fig, ax = plt.subplots(figsize=(10,10))\n",
    "    plt.xticks(rotation=90)\n",
    "    g = sns.barplot(ax=ax, x=\"w\", y=\"P({}|w)\".format(word[0]), hue=\"smoothing\",\n",
    "                    data=w_data, palette=\"Blues_d\")    "
   ]
  },
  {
   "cell_type": "code",
   "execution_count": 41,
   "metadata": {
    "collapsed": false,
    "scrolled": true
   },
   "outputs": [
    {
     "data": {
      "image/png": "[encoded data removed]",
      "text/plain": [
       "<matplotlib.figure.Figure at 0x7fdb2605bbe0>"
      ]
     },
     "metadata": {},
     "output_type": "display_data"
    },
    {
     "data": {
      "image/png": "[encoded data removed]",
      "text/plain": [
       "<matplotlib.figure.Figure at 0x7fdb16913e48>"
      ]
     },
     "metadata": {},
     "output_type": "display_data"
    }
   ],
   "source": [
    "plot_bigram_dist(('all',), bigram = ngrams_dict_augmented[2][0], smoothbigram = ngrams_dict_augmented[2][1])\n",
    "plot_bigram_dist(('the',), bigram = ngrams_dict_augmented[2][0], smoothbigram = ngrams_dict_augmented[2][1])"
   ]
  },
  {
   "cell_type": "code",
   "execution_count": 42,
   "metadata": {
    "collapsed": false,
    "scrolled": true
   },
   "outputs": [
    {
     "data": {
      "image/png": "[encoded data removed]",
      "text/plain": [
       "<matplotlib.figure.Figure at 0x7fdb28f76eb8>"
      ]
     },
     "metadata": {},
     "output_type": "display_data"
    },
    {
     "data": {
      "image/png": "[encoded data removed]",
      "text/plain": [
       "<matplotlib.figure.Figure at 0x7fdabb4c36d8>"
      ]
     },
     "metadata": {},
     "output_type": "display_data"
    }
   ],
   "source": [
    "k = 0.01\n",
    "if k not in ngrams_dict_augmented[2]:\n",
    "    ngrams_dict_augmented[2][k], ngrams_dict_augmented[1][k] = train_ngram_augmented(data, N=2, V=len(w2i)+2, k=k)\n",
    "\n",
    "plot_bigram_dist(('all',), bigram = ngrams_dict_augmented[2][0], smoothbigram = ngrams_dict_augmented[2][k])\n",
    "plot_bigram_dist(('!',), bigram = ngrams_dict_augmented[2][0], smoothbigram = ngrams_dict_augmented[2][k])"
   ]
  },
  {
   "cell_type": "code",
   "execution_count": 43,
   "metadata": {
    "collapsed": true
   },
   "outputs": [],
   "source": [
    "def sent_prob_augmented(sent, k, N, lm):\n",
    "    unigram = {}\n",
    "    \n",
    "    if N in lm and k in lm[N] and k in lm[1]: # check if we have an n gram with k smoothing, and also an unigram with k smoothing\n",
    "        ngram, unigram = lm[N][k], lm[1][k]\n",
    "    else:# if not, we have to train the ngram (together with the unigram)\n",
    "        ngram, unigram = train_ngram_augmented(data, N=N, V=len(w2i)+2, k=k)\n",
    "        lm[N][k], lm[1][k] = ngram, unigram\n",
    "    \n",
    "    # we replicate the <s> symbol so that we can calculate the probabilities appropriately\n",
    "    ngram_unpacked_data = [item for sublist in [[word] if word != '<s>' else [word]*(N-1) # when we see the start of sentence token, we replicate it N-1 times \n",
    "                                                for word in sent] \n",
    "                           for item in sublist]\n",
    "    \n",
    "    # generate the ngrams of the sentence\n",
    "    sent_ngrams = [ngram_unpacked_data[i:i+N] for i in range(0, len(ngram_unpacked_data) - N + 1)]\n",
    "    \n",
    "    sent_ngram_prob = np.product([ngram[tuple(ngram_val[:-1])][ngram_val[-1]]# probability of the word in this history\n",
    "                                    if ngram[tuple(ngram_val[:-1])] != 0.0 # this is for histories that have not appeared\n",
    "                                    else ngram[tuple(ngram_val[:-1])] # if history did not appear, then return the default value for the history, which is zero\n",
    "                                    for ngram_val in sent_ngrams]) # for every ngram, we have ngram_val[:-1] is the history, ngram_val[-1] is the current word\n",
    "\n",
    "    # finally, compute the probabilities for the unigram\n",
    "    sent_unigram_prob = np.product([unigram[word] for word in sent])\n",
    "    \n",
    "    return sent_ngram_prob, sent_unigram_prob\n"
   ]
  },
  {
   "cell_type": "code",
   "execution_count": 44,
   "metadata": {
    "collapsed": false
   },
   "outputs": [
    {
     "name": "stdout",
     "output_type": "stream",
     "text": [
      "Probability of sentence 1:\n",
      " \n",
      "\tUsing 0 smoothing:\n",
      "\n",
      "\t\t3-gram: 1.241092166741438e-11\n",
      "\n",
      "\t\t2-gram: 4.667998867880972e-17\n",
      "\n",
      "\t\tunigram: 8.711492631550748e-27\n",
      "\n",
      "\tUsing 1 smoothing:\n",
      "\n",
      "\t\t3-gram: 1.5368267602896025e-35\n",
      "\n",
      "\t\t2-gram: 1.3642489842696694e-26\n",
      "\n",
      "\t\tunigram: 7.628943757061614e-27\n",
      "\n",
      "Probability of sentence 2:\n",
      " \n",
      "\tUsing 0 smoothing:\n",
      "\n",
      "\t\t3-gram: 3.570432747502253e-31\n",
      "\n",
      "\t\t2-gram: 2.0159953795734388e-72\n",
      "\n",
      "\t\tunigram: 2.7545011290780525e-102\n",
      "\n",
      "\tUsing 1 smoothing:\n",
      "\n",
      "\t\t3-gram: 1.401925651479823e-136\n",
      "\n",
      "\t\t2-gram: 1.555307447842366e-116\n",
      "\n",
      "\t\tunigram: 4.109546393965371e-102\n",
      "\n"
     ]
    }
   ],
   "source": [
    "sent1 = '<s> Every day was about creating something new . </s>'.split()\n",
    "sent2 = '<s> In this machine , a beam of protons and anti-protons are accelerated to near the speed of light and brought \\\n",
    "together in a collision , producing a burst of pure energy . </s>'.split()\n",
    "\n",
    "for i, sent in enumerate([sent1, sent2]):\n",
    "    print(\"Probability of sentence {0}:\\n \".format(i+1))\n",
    "    for k in range(2):\n",
    "        print(\"\\tUsing {0} smoothing:\\n\".format(k))\n",
    "        \n",
    "        for N in range(3, 1, -1):\n",
    "            sent_ngram_prob, sent_unigram_prob = sent_prob_augmented(sent, k, N, ngrams_dict_augmented)\n",
    "            print(\"\\t\\t{0}-gram: {2}\\n\".format(N, k, sent_ngram_prob))\n",
    "        \n",
    "        print(\"\\t\\tunigram: {1}\\n\".format(k, sent_unigram_prob))"
   ]
  },
  {
   "cell_type": "code",
   "execution_count": 45,
   "metadata": {
    "collapsed": false
   },
   "outputs": [
    {
     "name": "stdout",
     "output_type": "stream",
     "text": [
      "Probability of sentence 1:\n",
      " \n",
      "\tUsing 0 smoothing:\n",
      "\n",
      "\t\t3-gram: 0.0\n",
      "\n",
      "\t\t2-gram: 2.6913665324688018e-15\n",
      "\n",
      "\t\tunigram: 3.5731707008639346e-24\n",
      "\n",
      "\tUsing 1 smoothing:\n",
      "\n",
      "\t\t3-gram: 2.4686213252546237e-33\n",
      "\n",
      "\t\t2-gram: 7.259172702960281e-24\n",
      "\n",
      "\t\tunigram: 3.1752807875634993e-24\n",
      "\n",
      "Probability of sentence 2:\n",
      " \n",
      "\tUsing 0 smoothing:\n",
      "\n",
      "\t\t3-gram: 0.0\n",
      "\n",
      "\t\t2-gram: 0.0\n",
      "\n",
      "\t\tunigram: 3.699664748429897e-120\n",
      "\n",
      "\tUsing 1 smoothing:\n",
      "\n",
      "\t\t3-gram: 0.0\n",
      "\n",
      "\t\t2-gram: 1.050158700443956e-126\n",
      "\n",
      "\t\tunigram: 3.60960523835821e-120\n",
      "\n"
     ]
    }
   ],
   "source": [
    "sent1 = '<s> Because these robots are really safe . </s>'.split()\n",
    "sent2 = '<s> We have sheer nothingness on one side , and we have this vision of a reality that encompasses every \\\n",
    "conceivable world at the other extreme : the fullest possible reality , nothingness , the simplest possible \\\n",
    "reality . </s>'.split()\n",
    "\n",
    "for i, sent in enumerate([sent1, sent2]):\n",
    "    print(\"Probability of sentence {0}:\\n \".format(i+1))\n",
    "    for k in range(2):\n",
    "        print(\"\\tUsing {0} smoothing:\\n\".format(k))\n",
    "        \n",
    "        for N in range(3, 1, -1):\n",
    "            sent_ngram_prob, sent_unigram_prob = sent_prob_augmented(sent, k, N, ngrams_dict_augmented)\n",
    "            print(\"\\t\\t{0}-gram: {2}\\n\".format(N, k, sent_ngram_prob))\n",
    "        \n",
    "        print(\"\\t\\tunigram: {1}\\n\".format(k, sent_unigram_prob))"
   ]
  },
  {
   "cell_type": "code",
   "execution_count": 46,
   "metadata": {
    "collapsed": false
   },
   "outputs": [
    {
     "name": "stdout",
     "output_type": "stream",
     "text": [
      "Perplexity of sentence 1: \n",
      "\n",
      "\tUsing 0 smoothing:\n",
      "\n",
      "\t\t3-gram: 12.32025215638067\n",
      "\n",
      "\t\t2-gram: 42.9622408820975\n",
      "\n",
      "\t\tunigram: 403.63678900916966\n",
      "\n",
      "\tUsing 1 smoothing:\n",
      "\n",
      "\t\t3-gram: 3029.2666846582733\n",
      "\n",
      "\t\t2-gram: 385.9318631434462\n",
      "\n",
      "\t\tunigram: 409.0284897884788\n",
      "\n",
      "Perplexity of sentence 2: \n",
      "\n",
      "\tUsing 0 smoothing:\n",
      "\n",
      "\t\t3-gram: 7.861550528109372\n",
      "\n",
      "\t\t2-gram: 128.43739376623046\n",
      "\n",
      "\t\tunigram: 970.6386043998526\n",
      "\n",
      "\tUsing 1 smoothing:\n",
      "\n",
      "\t\t3-gram: 9901.125362639066\n",
      "\n",
      "\t\t2-gram: 2547.5519644554456\n",
      "\n",
      "\t\tunigram: 959.2840832965023\n",
      "\n"
     ]
    }
   ],
   "source": [
    "sent1 = '<s> Every day was about creating something new . </s>'.split()\n",
    "sent2 = '<s> In this machine , a beam of protons and anti-protons are accelerated to near the speed of light and brought \\\n",
    "together in a collision , producing a burst of pure energy . </s>'.split()\n",
    "\n",
    "for i, sent in enumerate([sent1, sent2]):\n",
    "    print(\"Perplexity of sentence {0}: \\n\".format(i+1))\n",
    "    for k in range(2):\n",
    "        print(\"\\tUsing {0} smoothing:\\n\".format(k))\n",
    "        \n",
    "        for N in range(3, 1, -1):\n",
    "            sent_ngram_prob, sent_unigram_prob = sent_prob_augmented(sent, k, N, ngrams_dict_augmented)\n",
    "            sent_ngram_pp = np.power(sent_ngram_prob, -1/len(sent))\n",
    "            print(\"\\t\\t{0}-gram: {2}\\n\".format(N, k, sent_ngram_pp))\n",
    "        \n",
    "        sent_unigram_pp = np.power(sent_unigram_prob, -1/len(sent))\n",
    "        print(\"\\t\\tunigram: {1}\\n\".format(k, sent_unigram_pp))\n"
   ]
  },
  {
   "cell_type": "code",
   "execution_count": 47,
   "metadata": {
    "collapsed": true
   },
   "outputs": [],
   "source": [
    "%reset -f"
   ]
  }
 ],
 "metadata": {
  "anaconda-cloud": {},
  "kernelspec": {
   "display_name": "Python 3",
   "language": "python",
   "name": "python3"
  },
  "language_info": {
   "codemirror_mode": {
    "name": "ipython",
    "version": 3
   },
   "file_extension": ".py",
   "mimetype": "text/x-python",
   "name": "python",
   "nbconvert_exporter": "python",
   "pygments_lexer": "ipython3",
   "version": "3.6.2"
  }
 },
 "nbformat": 4,
 "nbformat_minor": 1
}
